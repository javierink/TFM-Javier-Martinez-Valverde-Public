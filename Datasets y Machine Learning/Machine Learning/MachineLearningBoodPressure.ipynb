{
 "cells": [
  {
   "cell_type": "markdown",
   "metadata": {},
   "source": [
    "# Processing Datasets"
   ]
  },
  {
   "cell_type": "code",
   "execution_count": 1,
   "metadata": {},
   "outputs": [],
   "source": [
    "# Imports\n",
    "import pandas as pd\n",
    "import matplotlib.pyplot as plt\n",
    "import os\n",
    "import numpy as np\n",
    "import csv\n",
    "\n",
    "from sklearn.preprocessing import OneHotEncoder\n",
    "\n",
    "try:\n",
    "    from sklearn.preprocessing import OrdinalEncoder\n",
    "except ImportError:\n",
    "    from future_encoders import OrdinalEncoder # Scikit-Learn < 0.20\n",
    "    \n",
    "from sklearn.model_selection import train_test_split\n",
    "\n",
    "try:\n",
    "    from sklearn.impute import SimpleImputer # Scikit-Learn 0.20+\n",
    "except ImportError:\n",
    "    from sklearn.preprocessing import Imputer as SimpleImputer\n",
    "\n",
    "from sklearn.pipeline import Pipeline\n",
    "from sklearn.preprocessing import StandardScaler\n",
    "\n",
    "try:\n",
    "    from sklearn.compose import ColumnTransformer\n",
    "except ImportError:\n",
    "    from future_encoders import ColumnTransformer # Scikit-Learn < 0.20\n",
    "    \n",
    "from sklearn.ensemble import RandomForestRegressor\n",
    "\n",
    "from sklearn.model_selection import RandomizedSearchCV\n",
    "\n",
    "from scipy.stats import randint\n",
    "\n",
    "from sklearn.metrics import mean_squared_error\n",
    "\n",
    "from sklearn.tree import DecisionTreeRegressor\n",
    "\n",
    "from sklearn.svm import SVR\n",
    "\n",
    "from sklearn.linear_model import BayesianRidge\n",
    "\n",
    "from sklearn.linear_model import LinearRegression\n",
    "\n",
    "from sklearn.model_selection import cross_val_score \n",
    "\n",
    "from sklearn.preprocessing import PolynomialFeatures\n",
    "\n",
    "from sklearn.pipeline import make_pipeline\n"
   ]
  },
  {
   "cell_type": "code",
   "execution_count": 2,
   "metadata": {},
   "outputs": [],
   "source": [
    "# Funtions\n",
    "\n",
    "def write_to_csv_file(line, mode):\n",
    "    with open(\"ML_results.csv\", mode) as csv_file:\n",
    "        writer = csv.writer(csv_file, delimiter=';')\n",
    "        writer.writerow(line)\n",
    "        \n",
    "def write_to_models_file(line, mode):\n",
    "    with open(\"Best models.txt\", mode) as file:\n",
    "        file.write(line  + '\\n')\n",
    "\n",
    "def write_features_to_csv_file(blanckDict, user, algorithm, mse, importances):\n",
    "    \n",
    "    dictImp = blankDict.copy()\n",
    "\n",
    "    dictImp['user'] = user\n",
    "    dictImp['algorithm'] = algorithm\n",
    "    dictImp['neg_mean_squared_error'] = mse\n",
    "\n",
    "    for imp, feat in importances:\n",
    "        dictImp[\"feature_\"+feat]=imp\n",
    "\n",
    "    write_to_csv_file(dictImp.values(), 'a')"
   ]
  },
  {
   "cell_type": "markdown",
   "metadata": {},
   "source": [
    "## Charge DF"
   ]
  },
  {
   "cell_type": "code",
   "execution_count": 3,
   "metadata": {},
   "outputs": [],
   "source": [
    "df = pd.read_csv(\"datasets/bloodpressure/general_database.csv\", delimiter=\";\")"
   ]
  },
  {
   "cell_type": "markdown",
   "metadata": {},
   "source": [
    "## Prepare DF for visivility (Cat to num)"
   ]
  },
  {
   "cell_type": "code",
   "execution_count": 4,
   "metadata": {},
   "outputs": [
    {
     "data": {
      "text/plain": [
       "[1, 2, 3, 4, 5, 6, 7]"
      ]
     },
     "execution_count": 4,
     "metadata": {},
     "output_type": "execute_result"
    }
   ],
   "source": [
    "users = df.user.unique().tolist()\n",
    "users"
   ]
  },
  {
   "cell_type": "code",
   "execution_count": 5,
   "metadata": {},
   "outputs": [],
   "source": [
    "df_general = df.copy()\n",
    "df_users = list()\n",
    "\n",
    "for user in users:\n",
    "   df_users.append(df[(df.user == user)].copy().reset_index(drop=True).drop(\"user\", axis=1))\n"
   ]
  },
  {
   "cell_type": "code",
   "execution_count": 6,
   "metadata": {},
   "outputs": [],
   "source": [
    "df_users_num = list()\n",
    "\n",
    "for df_user in df_users:\n",
    "   df_users_num.append(df_user.drop([\"birthcountry\",\"homecountry\",\"educationlevel\",\"gender\"], axis=1))\n",
    "\n",
    "df_general_num = df_general.drop([\"birthcountry\",\"homecountry\",\"educationlevel\",\"gender\"], axis=1)"
   ]
  },
  {
   "cell_type": "code",
   "execution_count": 7,
   "metadata": {},
   "outputs": [],
   "source": [
    "df_users_cat = list()\n",
    "\n",
    "for df_user in df_users:\n",
    "   df_users_cat.append(df_user[[\"birthcountry\",\"homecountry\",\"educationlevel\",\"gender\"]])\n",
    "\n",
    "df_general_cat = df_general[[\"birthcountry\",\"homecountry\",\"educationlevel\",\"gender\"]]"
   ]
  },
  {
   "cell_type": "code",
   "execution_count": 8,
   "metadata": {
    "scrolled": false
   },
   "outputs": [],
   "source": [
    "cat_encoder = OrdinalEncoder()\n",
    "\n",
    "df_users_cat_encoder = list()\n",
    "\n",
    "for df_user_cat in df_users_cat:\n",
    "   df_users_cat_encoder.append(cat_encoder.fit_transform(df_user_cat))\n",
    "\n",
    "df_1_cat_encoder = cat_encoder.fit_transform(df_users_cat[0])\n",
    "\n",
    "df_general_cat_encoder = cat_encoder.fit_transform(df_general_cat)"
   ]
  },
  {
   "cell_type": "code",
   "execution_count": 9,
   "metadata": {},
   "outputs": [],
   "source": [
    "df_users_cat_transf = list()\n",
    "\n",
    "for df_user_cat_encoder in df_users_cat_encoder:\n",
    "   df_users_cat_transf.append(pd.DataFrame(df_user_cat_encoder, columns = [\"birthcountry\",\"homecountry\",\"educationlevel\",\"gender\"]) )\n",
    "\n",
    "df_general_cat_transf = pd.DataFrame(df_general_cat_encoder, columns = [\"birthcountry\",\"homecountry\",\"educationlevel\",\"gender\"]) \n"
   ]
  },
  {
   "cell_type": "code",
   "execution_count": 10,
   "metadata": {},
   "outputs": [],
   "source": [
    "df_users_transf = list()\n",
    "\n",
    "for n in range(len(users)):\n",
    "   df_users_transf.append(pd.concat([df_users_num[n], df_users_cat_transf[n]], axis=1, join='inner'))\n",
    "\n",
    "\n",
    "df_general_transf = pd.concat([df_general_num, df_general_cat_transf], axis=1, join='inner')"
   ]
  },
  {
   "cell_type": "markdown",
   "metadata": {},
   "source": [
    "## Create plots for users and general"
   ]
  },
  {
   "cell_type": "code",
   "execution_count": 11,
   "metadata": {},
   "outputs": [
    {
     "data": {
      "text/plain": [
       "'plots_path = \"plots/\"\\nif not os.path.exists(plots_path):\\n    os.makedirs(plots_path)'"
      ]
     },
     "execution_count": 11,
     "metadata": {},
     "output_type": "execute_result"
    }
   ],
   "source": [
    "'''plots_path = \"plots/\"\n",
    "if not os.path.exists(plots_path):\n",
    "    os.makedirs(plots_path)'''"
   ]
  },
  {
   "cell_type": "code",
   "execution_count": 12,
   "metadata": {},
   "outputs": [
    {
     "data": {
      "text/plain": [
       "'for n in range(len(users)):\\n    df_users_transf[n].hist(bins=50, grid=False, figsize=(50,40))\\n    plt.savefig(plots_path + \"dataset_\" + str(users[n]) + \".pdf\")\\n    plt.close()'"
      ]
     },
     "execution_count": 12,
     "metadata": {},
     "output_type": "execute_result"
    }
   ],
   "source": [
    "'''for n in range(len(users)):\n",
    "    df_users_transf[n].hist(bins=50, grid=False, figsize=(50,40))\n",
    "    plt.savefig(plots_path + \"dataset_\" + str(users[n]) + \".pdf\")\n",
    "    plt.close()'''"
   ]
  },
  {
   "cell_type": "code",
   "execution_count": 13,
   "metadata": {},
   "outputs": [
    {
     "data": {
      "text/plain": [
       "'df_general_transf.hist(bins=50, grid=False, figsize=(50,40))\\nplt.savefig(plots_path + \"general_dataset.pdf\")\\nplt.close()'"
      ]
     },
     "execution_count": 13,
     "metadata": {},
     "output_type": "execute_result"
    }
   ],
   "source": [
    "'''df_general_transf.hist(bins=50, grid=False, figsize=(50,40))\n",
    "plt.savefig(plots_path + \"general_dataset.pdf\")\n",
    "plt.close()'''"
   ]
  },
  {
   "cell_type": "markdown",
   "metadata": {},
   "source": [
    "## Cleaning features and view"
   ]
  },
  {
   "cell_type": "code",
   "execution_count": 14,
   "metadata": {},
   "outputs": [],
   "source": [
    "# User 1\n",
    "\n",
    "df_users_transf[0] = df_users_transf[0][df_users_transf[0].columns.drop(list(df_users_transf[0].filter(regex='alcohol_')))]\n",
    "df_users_transf[0] = df_users_transf[0][df_users_transf[0].columns.drop(list(df_users_transf[0].filter(regex='smoke_')))]\n",
    "df_users_transf[0] = df_users_transf[0][df_users_transf[0].columns.drop(list(df_users_transf[0].filter(regex='diet_')))]\n",
    "df_users_transf[0] = df_users_transf[0][df_users_transf[0].columns.drop(list(df_users_transf[0].filter(regex='pollution_')))]\n",
    "df_users_transf[0] = df_users_transf[0].drop(\"birthcountry\", axis=1)\n",
    "df_users_transf[0] = df_users_transf[0].drop(\"gender\", axis=1)\n",
    "df_users_transf[0] = df_users_transf[0].drop(\"birthdate\", axis=1)\n",
    "df_users_transf[0] = df_users_transf[0].drop(\"educationlevel\", axis=1)\n",
    "df_users_transf[0] = df_users_transf[0].drop(\"homecountry\", axis=1)\n",
    "df_users_transf[0] = df_users_transf[0].drop(\"height\", axis=1)\n",
    "df_users_transf[0] = df_users_transf[0].drop(\"weight\", axis=1)\n",
    "df_users_transf[0] = df_users_transf[0].drop([\"depression_q2\", \"depression_q3\", \"depression_q4\", \"depression_q5\", \"depression_q6\", \"depression_q9\", \"depression_q10\"], axis=1)\n",
    "df_users_transf[0] = df_users_transf[0].drop([\"physical_q1\", \"physical_q2\"], axis=1)\n",
    "df_users_transf[0] = df_users_transf[0].drop([\"social_q1\", \"social_q3\",\"social_q4\"], axis=1)\n",
    "df_users_transf[0] = df_users_transf[0].drop([\"stress_q3\", \"stress_q4\", \"stress_q5\", \"stress_q8\"], axis=1)\n",
    "\n",
    "#['med_Paracetamol', 'med_Ibuprofeno', 'med_Naproxeno', 'med_Dexketoprofeno', 'med_Acido acetil salicilico', 'med_Metamizol', 'med_Morfina',  'med_Fentanil', 'med_Tramadol', 'med_Nitroglicerina', 'med_Verapamilo', 'med_Nifedipino', 'med_Porpanolol', 'med_Atenolol', 'med_Labetalol',  'med_Amiodarona', 'med_Lidocaina', 'med_Adenosina', 'med_Digoxina', 'med_Sulfato de magnesio', 'med_Insulina', 'med_Glucagon',  'med_Lercanidipino', 'med_Acenocumarol', 'med_Alprazolam', 'med_Midazolam', 'med_Diazepam', 'med_Lorazepam', 'med_Lormetazepam',  'med_Clorazepato dipotasico', 'med_Sertralina', 'med_Zolpidem', 'med_Dimenhidrinato', 'med_Doxilamina', 'med_Difenhidramina',  'med_Dimenhidrinato', 'med_Hidroxicina', 'med_Cetirizina', 'med_Hidroclorotiazida']\n",
    "df_users_transf[0] = df_users_transf[0].drop(['med_Paracetamol', 'med_Ibuprofeno', 'med_Naproxeno', 'med_Dexketoprofeno', 'med_Acido acetil salicilico', 'med_Metamizol', 'med_Morfina',  'med_Fentanil', 'med_Tramadol', 'med_Nitroglicerina', 'med_Verapamilo', 'med_Nifedipino', 'med_Porpanolol', 'med_Atenolol', 'med_Labetalol',  'med_Amiodarona', 'med_Lidocaina', 'med_Adenosina', 'med_Digoxina', 'med_Sulfato de magnesio', 'med_Insulina', 'med_Glucagon',  'med_Lercanidipino', 'med_Acenocumarol', 'med_Alprazolam', 'med_Midazolam', 'med_Diazepam', 'med_Lorazepam', 'med_Lormetazepam',  'med_Clorazepato dipotasico', 'med_Sertralina', 'med_Zolpidem', 'med_Dimenhidrinato', 'med_Doxilamina', 'med_Difenhidramina',  'med_Dimenhidrinato', 'med_Hidroxicina', 'med_Cetirizina'], axis=1)\n"
   ]
  },
  {
   "cell_type": "code",
   "execution_count": 15,
   "metadata": {},
   "outputs": [],
   "source": [
    "# User 2\n",
    "\n",
    "df_users_transf[1] = df_users_transf[1][df_users_transf[1].columns.drop(list(df_users_transf[1].filter(regex='alcohol_')))]\n",
    "df_users_transf[1] = df_users_transf[1][df_users_transf[1].columns.drop(list(df_users_transf[1].filter(regex='smoke_')))]\n",
    "df_users_transf[1] = df_users_transf[1][df_users_transf[1].columns.drop(list(df_users_transf[1].filter(regex='pollution_')))]\n",
    "df_users_transf[1] = df_users_transf[1].drop(\"birthcountry\", axis=1)\n",
    "df_users_transf[1] = df_users_transf[1].drop(\"gender\", axis=1)\n",
    "df_users_transf[1] = df_users_transf[1].drop(\"birthdate\", axis=1)\n",
    "df_users_transf[1] = df_users_transf[1].drop(\"educationlevel\", axis=1)\n",
    "df_users_transf[1] = df_users_transf[1].drop(\"homecountry\", axis=1)\n",
    "df_users_transf[1] = df_users_transf[1].drop(\"height\", axis=1)\n",
    "df_users_transf[1] = df_users_transf[1].drop(\"weight\", axis=1)\n",
    "df_users_transf[1] = df_users_transf[1].drop([\"depression_q9\",\"depression_q10\"], axis=1)\n",
    "df_users_transf[1] = df_users_transf[1][df_users_transf[1].columns.drop(list(df_users_transf[1].filter(regex='diet_').drop(\"diet_q4\", axis=1)))]\n",
    "df_users_transf[1] = df_users_transf[1][df_users_transf[1].columns.drop(list(df_users_transf[1].filter(regex='social_').drop(\"social_q4\", axis=1)))]\n",
    "df_users_transf[1] = df_users_transf[1].drop([\"stress_q4\",\"stress_q5\",\"stress_q6\",\"stress_q12\"], axis=1)\n",
    "\n",
    "df_users_transf[1] = df_users_transf[1].drop(['med_Naproxeno', 'med_Dexketoprofeno', 'med_Metamizol', 'med_Morfina',  'med_Fentanil', 'med_Tramadol', 'med_Nitroglicerina', 'med_Verapamilo', 'med_Nifedipino', 'med_Porpanolol', 'med_Atenolol', 'med_Labetalol',  'med_Amiodarona', 'med_Lidocaina', 'med_Adenosina', 'med_Digoxina', 'med_Sulfato de magnesio', 'med_Insulina', 'med_Glucagon',  'med_Lercanidipino', 'med_Acenocumarol', 'med_Alprazolam', 'med_Midazolam', 'med_Diazepam', 'med_Lorazepam', 'med_Lormetazepam',  'med_Clorazepato dipotasico', 'med_Sertralina', 'med_Zolpidem', 'med_Dimenhidrinato', 'med_Doxilamina', 'med_Difenhidramina',  'med_Dimenhidrinato', 'med_Hidroxicina', 'med_Cetirizina', 'med_Hidroclorotiazida'], axis=1)"
   ]
  },
  {
   "cell_type": "code",
   "execution_count": 16,
   "metadata": {},
   "outputs": [],
   "source": [
    "# User 3\n",
    "\n",
    "df_users_transf[2] = df_users_transf[2][df_users_transf[2].columns.drop(list(df_users_transf[2].filter(regex='alcohol_')))]\n",
    "df_users_transf[2] = df_users_transf[2][df_users_transf[2].columns.drop(list(df_users_transf[2].filter(regex='pollution_')))]\n",
    "df_users_transf[2] = df_users_transf[2].drop(\"birthcountry\", axis=1)\n",
    "df_users_transf[2] = df_users_transf[2].drop(\"gender\", axis=1)\n",
    "df_users_transf[2] = df_users_transf[2].drop(\"birthdate\", axis=1)\n",
    "df_users_transf[2] = df_users_transf[2].drop(\"educationlevel\", axis=1)\n",
    "df_users_transf[2] = df_users_transf[2].drop(\"homecountry\", axis=1)\n",
    "df_users_transf[2] = df_users_transf[2].drop(\"height\", axis=1)\n",
    "df_users_transf[2] = df_users_transf[2].drop(\"weight\", axis=1)\n",
    "df_users_transf[2] = df_users_transf[2].drop(\"depression_q6\", axis=1)\n",
    "df_users_transf[2] = df_users_transf[2][df_users_transf[2].columns.drop(list(df_users_transf[2].filter(regex='diet_').drop([\"diet_q3\",\"diet_q13\"], axis=1)))]\n",
    "\n",
    "df_users_transf[2] = df_users_transf[2].drop(['med_Paracetamol', 'med_Ibuprofeno', 'med_Dexketoprofeno', 'med_Metamizol', 'med_Morfina',  'med_Fentanil', 'med_Tramadol', 'med_Nitroglicerina', 'med_Verapamilo', 'med_Nifedipino', 'med_Porpanolol', 'med_Atenolol', 'med_Labetalol',  'med_Amiodarona', 'med_Lidocaina', 'med_Adenosina', 'med_Digoxina', 'med_Sulfato de magnesio', 'med_Insulina', 'med_Glucagon',  'med_Lercanidipino', 'med_Acenocumarol', 'med_Alprazolam', 'med_Midazolam', 'med_Diazepam', 'med_Lorazepam', 'med_Lormetazepam',  'med_Clorazepato dipotasico', 'med_Sertralina', 'med_Zolpidem', 'med_Dimenhidrinato', 'med_Doxilamina', 'med_Difenhidramina',  'med_Dimenhidrinato', 'med_Hidroxicina', 'med_Cetirizina'], axis=1)\n",
    "df_users_transf[2] = df_users_transf[2].drop(\"smoke_other\", axis=1)\n",
    "df_users_transf[2] = df_users_transf[2].drop([\"social_q4\",\"social_q7\"], axis=1)\n",
    "df_users_transf[2] = df_users_transf[2].drop([\"stress_q7\",\"stress_q13\"], axis=1)"
   ]
  },
  {
   "cell_type": "code",
   "execution_count": 17,
   "metadata": {},
   "outputs": [],
   "source": [
    "# User 4\n",
    "\n",
    "df_users_transf[3] = df_users_transf[3].drop([\"alcohol_destilled\",\"alcohol_destilledmix\",\"alcohol_other\",\"alcohol_otherfermented\"], axis=1)\n",
    "df_users_transf[3] = df_users_transf[3][df_users_transf[3].columns.drop(list(df_users_transf[3].filter(regex='pollution_')))]\n",
    "df_users_transf[3] = df_users_transf[3][df_users_transf[3].columns.drop(list(df_users_transf[3].filter(regex='smoke_')))]\n",
    "\n",
    "\n",
    "df_users_transf[3] = df_users_transf[3].drop(\"birthcountry\", axis=1)\n",
    "df_users_transf[3] = df_users_transf[3].drop(\"gender\", axis=1)\n",
    "df_users_transf[3] = df_users_transf[3].drop(\"birthdate\", axis=1)\n",
    "df_users_transf[3] = df_users_transf[3].drop(\"educationlevel\", axis=1)\n",
    "df_users_transf[3] = df_users_transf[3].drop(\"homecountry\", axis=1)\n",
    "df_users_transf[3] = df_users_transf[3].drop(\"height\", axis=1)\n",
    "df_users_transf[3] = df_users_transf[3].drop(\"weight\", axis=1)\n",
    "\n",
    "df_users_transf[3] = df_users_transf[3].drop([\"depression_q2\", \"depression_q5\", \"depression_q7\"], axis=1)\n",
    "df_users_transf[3] = df_users_transf[3].drop([\"diet_q4\", \"diet_q6\", \"diet_q10\", \"diet_q11\", \"diet_q12\", \"diet_q13\"], axis=1)\n",
    "\n",
    "df_users_transf[3] = df_users_transf[3][df_users_transf[3].columns.drop(list(df_users_transf[3].filter(regex='med_').drop([\"med_Paracetamol\"], axis=1)))]\n",
    "df_users_transf[3] = df_users_transf[3].drop([\"social_q5\", \"social_q7\"], axis=1)\n",
    "df_users_transf[3] = df_users_transf[3].drop([\"stress_q3\", \"stress_q6\", \"stress_q12\"], axis=1)"
   ]
  },
  {
   "cell_type": "code",
   "execution_count": 18,
   "metadata": {},
   "outputs": [],
   "source": [
    "# User 5\n",
    "\n",
    "df_users_transf[4] = df_users_transf[4][df_users_transf[4].columns.drop(list(df_users_transf[4].filter(regex='alcohol_').drop([\"alcohol_otherfermented\", \"alcohol_winemix\"], axis=1)))]\n",
    "df_users_transf[4] = df_users_transf[4][df_users_transf[4].columns.drop(list(df_users_transf[4].filter(regex='pollution_')))]\n",
    "df_users_transf[4] = df_users_transf[4][df_users_transf[4].columns.drop(list(df_users_transf[4].filter(regex='smoke_')))]\n",
    "df_users_transf[4] = df_users_transf[4][df_users_transf[4].columns.drop(list(df_users_transf[4].filter(regex='med_')))]\n",
    "\n",
    "df_users_transf[4] = df_users_transf[4].drop(\"birthcountry\", axis=1)\n",
    "df_users_transf[4] = df_users_transf[4].drop(\"gender\", axis=1)\n",
    "df_users_transf[4] = df_users_transf[4].drop(\"birthdate\", axis=1)\n",
    "df_users_transf[4] = df_users_transf[4].drop(\"educationlevel\", axis=1)\n",
    "df_users_transf[4] = df_users_transf[4].drop(\"homecountry\", axis=1)\n",
    "df_users_transf[4] = df_users_transf[4].drop(\"height\", axis=1)\n",
    "df_users_transf[4] = df_users_transf[4].drop(\"weight\", axis=1)\n",
    "\n",
    "df_users_transf[4] = df_users_transf[4].drop([\"depression_q2\", \"depression_q4\", \"depression_q8\", \"depression_q10\"], axis=1)\n",
    "df_users_transf[4] = df_users_transf[4][df_users_transf[4].columns.drop(list(df_users_transf[4].filter(regex='diet_').drop([\"diet_q3\", \"diet_q7\", \"diet_q11\"], axis=1)))]\n",
    "df_users_transf[4] = df_users_transf[4].drop([\"social_q1\",\"social_q7\"], axis=1)\n",
    "df_users_transf[4] = df_users_transf[4].drop([\"stress_q7\", \"stress_q8\", \"stress_q9\", \"stress_q10\", \"stress_q13\"], axis=1)"
   ]
  },
  {
   "cell_type": "code",
   "execution_count": 19,
   "metadata": {},
   "outputs": [],
   "source": [
    "# User 6\n",
    "\n",
    "df_users_transf[5] = df_users_transf[5][df_users_transf[5].columns.drop(list(df_users_transf[5].filter(regex='alcohol_')))]\n",
    "df_users_transf[5] = df_users_transf[5][df_users_transf[5].columns.drop(list(df_users_transf[5].filter(regex='pollution_')))]\n",
    "df_users_transf[5] = df_users_transf[5][df_users_transf[5].columns.drop(list(df_users_transf[5].filter(regex='smoke_')))]\n",
    "df_users_transf[5] = df_users_transf[5][df_users_transf[5].columns.drop(list(df_users_transf[5].filter(regex='med_').drop([\"med_Naproxeno\",\"med_Paracetamol\"], axis=1)))]\n",
    "\n",
    "df_users_transf[5] = df_users_transf[5].drop(\"birthcountry\", axis=1)\n",
    "df_users_transf[5] = df_users_transf[5].drop(\"gender\", axis=1)\n",
    "df_users_transf[5] = df_users_transf[5].drop(\"birthdate\", axis=1)\n",
    "df_users_transf[5] = df_users_transf[5].drop(\"educationlevel\", axis=1)\n",
    "df_users_transf[5] = df_users_transf[5].drop(\"homecountry\", axis=1)\n",
    "df_users_transf[5] = df_users_transf[5].drop(\"height\", axis=1)\n",
    "\n",
    "df_users_transf[5] = df_users_transf[5].drop([\"depression_q5\",\"depression_q9\"], axis=1)\n",
    "df_users_transf[5] = df_users_transf[5][df_users_transf[5].columns.drop(list(df_users_transf[5].filter(regex='diet_').drop([\"diet_q3\", \"diet_q5\", \"diet_q8\", \"diet_q10\", \"diet_q14\"], axis=1)))]\n",
    "df_users_transf[5] = df_users_transf[5][df_users_transf[5].columns.drop(list(df_users_transf[5].filter(regex='social_').drop([\"social_q4\"], axis=1)))]\n",
    "df_users_transf[5] = df_users_transf[5].drop([\"stress_q4\"], axis=1)\n"
   ]
  },
  {
   "cell_type": "code",
   "execution_count": 20,
   "metadata": {},
   "outputs": [],
   "source": [
    "# User 7\n",
    "\n",
    "df_users_transf[6] = df_users_transf[6][df_users_transf[6].columns.drop(list(df_users_transf[6].filter(regex='alcohol_')))]\n",
    "df_users_transf[6] = df_users_transf[6][df_users_transf[6].columns.drop(list(df_users_transf[6].filter(regex='pollution_')))]\n",
    "df_users_transf[6] = df_users_transf[6][df_users_transf[6].columns.drop(list(df_users_transf[6].filter(regex='smoke_')))]\n",
    "df_users_transf[6] = df_users_transf[6][df_users_transf[6].columns.drop(list(df_users_transf[6].filter(regex='med_').drop([\"med_Naproxeno\",\"med_Paracetamol\"], axis=1)))]\n",
    "\n",
    "df_users_transf[6] = df_users_transf[6].drop(\"birthcountry\", axis=1)\n",
    "df_users_transf[6] = df_users_transf[6].drop(\"gender\", axis=1)\n",
    "df_users_transf[6] = df_users_transf[6].drop(\"birthdate\", axis=1)\n",
    "df_users_transf[6] = df_users_transf[6].drop(\"educationlevel\", axis=1)\n",
    "df_users_transf[6] = df_users_transf[6].drop(\"homecountry\", axis=1)\n",
    "df_users_transf[6] = df_users_transf[6].drop(\"height\", axis=1)\n",
    "df_users_transf[6] = df_users_transf[6].drop(\"weight\", axis=1)\n",
    "\n",
    "df_users_transf[6] = df_users_transf[6].drop([\"depression_q1\",\"depression_q3\",\"depression_q9\",\"depression_q10\"], axis=1)\n",
    "df_users_transf[6] = df_users_transf[6].drop([\"physical_q5\",\"physical_q7\"], axis=1)\n",
    "df_users_transf[6] = df_users_transf[6][df_users_transf[6].columns.drop(list(df_users_transf[6].filter(regex='diet_').drop([\"diet_q2\", \"diet_q3\", \"diet_q9\"], axis=1)))]\n",
    "df_users_transf[6] = df_users_transf[6][df_users_transf[6].columns.drop(list(df_users_transf[6].filter(regex='social_').drop([\"social_q4\", \"social_q6\"], axis=1)))]\n",
    "df_users_transf[6] = df_users_transf[6].drop([\"stress_q13\"], axis=1)\n"
   ]
  },
  {
   "cell_type": "code",
   "execution_count": 21,
   "metadata": {},
   "outputs": [],
   "source": [
    "# General dataset\n",
    "\n",
    "df_general_transf = df_general_transf.drop(['alcohol_destilled', 'alcohol_destilledmix', 'alcohol_other'], axis=1)\n",
    "df_general_transf = df_general_transf[df_general_transf.columns.drop(list(df_general_transf.filter(regex='pollution_')))]\n",
    "df_general_transf = df_general_transf.drop(\"birthcountry\", axis=1)\n",
    "df_general_transf = df_general_transf.drop(\"homecountry\", axis=1)\n",
    "\n",
    "\n",
    "#['med_Paracetamol', 'med_Ibuprofeno', 'med_Naproxeno', 'med_Dexketoprofeno', 'med_Acido acetil salicilico', 'med_Metamizol', 'med_Morfina',  'med_Fentanil', 'med_Tramadol', 'med_Nitroglicerina', 'med_Verapamilo', 'med_Nifedipino', 'med_Porpanolol', 'med_Atenolol', 'med_Labetalol',  'med_Amiodarona', 'med_Lidocaina', 'med_Adenosina', 'med_Digoxina', 'med_Sulfato de magnesio', 'med_Insulina', 'med_Glucagon',  'med_Lercanidipino', 'med_Acenocumarol', 'med_Alprazolam', 'med_Midazolam', 'med_Diazepam', 'med_Lorazepam', 'med_Lormetazepam',  'med_Clorazepato dipotasico', 'med_Sertralina', 'med_Zolpidem', 'med_Dimenhidrinato', 'med_Doxilamina', 'med_Difenhidramina',  'med_Dimenhidrinato', 'med_Hidroxicina', 'med_Cetirizina', 'med_Hidroclorotiazida']\n",
    "df_general_transf = df_general_transf.drop(['med_Dexketoprofeno', 'med_Metamizol', 'med_Morfina',  'med_Fentanil', 'med_Tramadol', 'med_Nitroglicerina', 'med_Verapamilo', 'med_Nifedipino', 'med_Porpanolol', 'med_Atenolol', 'med_Labetalol',  'med_Amiodarona', 'med_Lidocaina', 'med_Adenosina', 'med_Digoxina', 'med_Sulfato de magnesio', 'med_Insulina', 'med_Glucagon',  'med_Acenocumarol', 'med_Alprazolam', 'med_Midazolam', 'med_Diazepam', 'med_Clorazepato dipotasico', 'med_Dimenhidrinato', 'med_Doxilamina', 'med_Difenhidramina',  'med_Dimenhidrinato', 'med_Hidroxicina', 'med_Cetirizina'], axis=1)\n",
    "\n",
    "df_general_transf = df_general_transf.drop(\"smoke_other\", axis=1)"
   ]
  },
  {
   "cell_type": "code",
   "execution_count": 22,
   "metadata": {},
   "outputs": [
    {
     "data": {
      "text/plain": [
       "'\\nfor n in range(len(users)):\\n    df_users_transf[n].hist(bins=50, grid=False, figsize=(50,40))\\n    plt.savefig(plots_path + \"database_\" + str(n+1) + \"_clear.pdf\")\\n    plt.close()\\n'"
      ]
     },
     "execution_count": 22,
     "metadata": {},
     "output_type": "execute_result"
    }
   ],
   "source": [
    "'''\n",
    "for n in range(len(users)):\n",
    "    df_users_transf[n].hist(bins=50, grid=False, figsize=(50,40))\n",
    "    plt.savefig(plots_path + \"database_\" + str(n+1) + \"_clear.pdf\")\n",
    "    plt.close()\n",
    "'''"
   ]
  },
  {
   "cell_type": "code",
   "execution_count": 23,
   "metadata": {},
   "outputs": [
    {
     "data": {
      "text/plain": [
       "'df_general_transf.hist(bins=50, grid=False, figsize=(50,40))\\nplt.savefig(plots_path + \"database_general_clear.pdf\")\\nplt.close()'"
      ]
     },
     "execution_count": 23,
     "metadata": {},
     "output_type": "execute_result"
    }
   ],
   "source": [
    "'''df_general_transf.hist(bins=50, grid=False, figsize=(50,40))\n",
    "plt.savefig(plots_path + \"database_general_clear.pdf\")\n",
    "plt.close()'''"
   ]
  },
  {
   "cell_type": "markdown",
   "metadata": {},
   "source": [
    "## Split training and test"
   ]
  },
  {
   "cell_type": "code",
   "execution_count": 24,
   "metadata": {},
   "outputs": [],
   "source": [
    "df_original_general = df_general.copy()"
   ]
  },
  {
   "cell_type": "code",
   "execution_count": 25,
   "metadata": {},
   "outputs": [],
   "source": [
    "# Clear the features delete in previous section\n",
    "df_general = df_general[df_general_transf.columns.values]"
   ]
  },
  {
   "cell_type": "code",
   "execution_count": 26,
   "metadata": {},
   "outputs": [],
   "source": [
    "train_users_set = list()\n",
    "test_users_set = list()\n",
    "\n",
    "df_users = list()\n",
    "df_users_label_dia = list()\n",
    "df_users_label_sys = list()\n",
    "df_users_labels = list()\n",
    "\n",
    "for df_user_transf in df_users_transf:\n",
    "    train, test = train_test_split(df_user_transf, test_size=0.2, random_state=42)\n",
    "    train_users_set.append(train)\n",
    "    test_users_set.append(test)\n",
    "    \n",
    "    df_users.append(train.drop([\"diastolic\",\"systolic\"], axis=1))\n",
    "    \n",
    "    df_users_label_dia.append(train[\"diastolic\"].copy())\n",
    "    df_users_label_sys.append(train[\"systolic\"].copy())\n",
    "    df_users_labels.append(train[[\"diastolic\",\"systolic\"]].copy())\n",
    "\n",
    "train_general_set, test_general_set = train_test_split(df_general, test_size=0.2, random_state=42)\n",
    "\n",
    "df_general = train_general_set.drop([\"diastolic\",\"systolic\"], axis=1)\n",
    "\n",
    "df_general_label_dia = train_general_set[\"diastolic\"].copy()\n",
    "df_general_label_sys = train_general_set[\"systolic\"].copy()\n",
    "df_general_labels = train_general_set[[\"diastolic\",\"systolic\"]].copy()"
   ]
  },
  {
   "cell_type": "code",
   "execution_count": 27,
   "metadata": {},
   "outputs": [],
   "source": [
    "# Transform categorical features with OneHot, Oridinal is only for view\n",
    "\n",
    "num_pipeline = Pipeline([\n",
    "        ('imputer', SimpleImputer(strategy=\"median\")),\n",
    "        ('std_scaler', StandardScaler()),\n",
    "    ])"
   ]
  },
  {
   "cell_type": "code",
   "execution_count": 28,
   "metadata": {},
   "outputs": [],
   "source": [
    "# In case of general df is two features with categories\n",
    "\n",
    "# Transform categorical features with OneHot, Oridinal is only for view\n",
    "cat_encoder_one = OneHotEncoder()\n",
    "\n",
    "num_attribs = list(df_general)\n",
    "num_attribs.remove(\"educationlevel\")\n",
    "num_attribs.remove(\"gender\")\n",
    "cat_attribs = [\"educationlevel\",\"gender\"]\n",
    "\n",
    "full_pipeline = ColumnTransformer([\n",
    "        (\"num\", num_pipeline, num_attribs),\n",
    "        (\"cat\", OneHotEncoder(), cat_attribs),\n",
    "    ])\n",
    "\n",
    "df_general_prepared = full_pipeline.fit_transform(df_general)"
   ]
  },
  {
   "cell_type": "markdown",
   "metadata": {},
   "source": [
    "## Machine Learning algorithms"
   ]
  },
  {
   "cell_type": "code",
   "execution_count": 29,
   "metadata": {},
   "outputs": [],
   "source": [
    "# Create a dictionary for print result in a file\n",
    "\n",
    "blankDict = {'user' : '', 'algorithm' : '', 'neg_mean_squared_error':  ''}\n",
    "\n",
    "for name in df_general.columns.values:\n",
    "    blankDict['feature_'+name] = '0.0'\n",
    "\n",
    "write_to_csv_file(blankDict.keys(), 'w')\n",
    "\n",
    "write_to_models_file(\"BEST MODELS\", 'w')"
   ]
  },
  {
   "cell_type": "code",
   "execution_count": 30,
   "metadata": {},
   "outputs": [],
   "source": [
    "# Iteractions, cross validation and grade values\n",
    "\n",
    "number_iter = 100\n",
    "cv_users = 10\n",
    "cv_general = 10\n",
    "max_grade = 5"
   ]
  },
  {
   "cell_type": "markdown",
   "metadata": {},
   "source": [
    "### Ramdon Forest"
   ]
  },
  {
   "cell_type": "code",
   "execution_count": 31,
   "metadata": {},
   "outputs": [
    {
     "name": "stderr",
     "output_type": "stream",
     "text": [
      "/home/ahuertas/anaconda3/lib/python3.7/site-packages/sklearn/model_selection/_search.py:841: DeprecationWarning: The default of the `iid` parameter will change from True to False in version 0.22 and will be removed in 0.24. This will change numeric results when test-set sizes are unequal.\n",
      "  DeprecationWarning)\n",
      "/home/ahuertas/anaconda3/lib/python3.7/site-packages/sklearn/model_selection/_search.py:841: DeprecationWarning: The default of the `iid` parameter will change from True to False in version 0.22 and will be removed in 0.24. This will change numeric results when test-set sizes are unequal.\n",
      "  DeprecationWarning)\n",
      "/home/ahuertas/anaconda3/lib/python3.7/site-packages/sklearn/model_selection/_search.py:841: DeprecationWarning: The default of the `iid` parameter will change from True to False in version 0.22 and will be removed in 0.24. This will change numeric results when test-set sizes are unequal.\n",
      "  DeprecationWarning)\n",
      "/home/ahuertas/anaconda3/lib/python3.7/site-packages/sklearn/model_selection/_search.py:841: DeprecationWarning: The default of the `iid` parameter will change from True to False in version 0.22 and will be removed in 0.24. This will change numeric results when test-set sizes are unequal.\n",
      "  DeprecationWarning)\n",
      "/home/ahuertas/anaconda3/lib/python3.7/site-packages/sklearn/model_selection/_search.py:841: DeprecationWarning: The default of the `iid` parameter will change from True to False in version 0.22 and will be removed in 0.24. This will change numeric results when test-set sizes are unequal.\n",
      "  DeprecationWarning)\n",
      "/home/ahuertas/anaconda3/lib/python3.7/site-packages/sklearn/model_selection/_search.py:841: DeprecationWarning: The default of the `iid` parameter will change from True to False in version 0.22 and will be removed in 0.24. This will change numeric results when test-set sizes are unequal.\n",
      "  DeprecationWarning)\n"
     ]
    }
   ],
   "source": [
    "# For each user search best model\n",
    "for n in range(len(users)):\n",
    "    \n",
    "    attribs = list(df_users[n])\n",
    "    \n",
    "    df_user_prepared = num_pipeline.fit_transform(df_users[n])\n",
    "    \n",
    "    param_distribs_rf = {\n",
    "            'n_estimators': randint(low=1, high=200),\n",
    "            'max_features': randint(low=1, high=len(df_users[n].columns)),\n",
    "    }\n",
    "    \n",
    "    # Search best model\n",
    "    forest_reg = RandomForestRegressor(random_state=42)\n",
    "    rnd_rf_search = RandomizedSearchCV(forest_reg, param_distributions=param_distribs_rf,\n",
    "                                    n_iter=number_iter, cv=cv_users, scoring='neg_mean_squared_error', random_state=42)\n",
    "    rnd_rf_search.fit(df_user_prepared, df_users_labels[n])\n",
    "\n",
    "    # Best model\n",
    "    model = rnd_rf_search.best_estimator_\n",
    "    \n",
    "    write_to_models_file(\"RF:\" + str(users[n] )+ ':' + str(model), 'a')\n",
    "    \n",
    "    # Prepare test_set\n",
    "    X_test = test_users_set[n].drop([\"diastolic\",\"systolic\"], axis=1)\n",
    "    y_test = test_users_set[n][[\"diastolic\",\"systolic\"]].copy()\n",
    "\n",
    "    X_test_prepared = num_pipeline.transform(X_test)\n",
    "    predictions = model.predict(X_test_prepared)\n",
    "\n",
    "    # Metric\n",
    "    final_mse = mean_squared_error(y_test, predictions)\n",
    "    final_rmse = np.sqrt(final_mse)\n",
    "\n",
    "    # Score of the features in the model\n",
    "    importances = rnd_rf_search.best_estimator_.feature_importances_\n",
    "    importance_features = sorted(zip(importances, attribs), reverse=True)\n",
    "\n",
    "    # Save the score and metric in the file of results\n",
    "    write_features_to_csv_file(blankDict, users[n], 'RF', final_rmse, importance_features)"
   ]
  },
  {
   "cell_type": "code",
   "execution_count": 32,
   "metadata": {},
   "outputs": [
    {
     "name": "stderr",
     "output_type": "stream",
     "text": [
      "/home/ahuertas/anaconda3/lib/python3.7/site-packages/sklearn/model_selection/_search.py:841: DeprecationWarning: The default of the `iid` parameter will change from True to False in version 0.22 and will be removed in 0.24. This will change numeric results when test-set sizes are unequal.\n",
      "  DeprecationWarning)\n"
     ]
    }
   ],
   "source": [
    "# Search best model\n",
    "\n",
    "attribs = list(df_general)\n",
    "\n",
    "param_distribs_rf = {\n",
    "            'n_estimators': randint(low=1, high=200),\n",
    "            'max_features': randint(low=1, high=len(df_general.columns)),\n",
    "    }\n",
    "\n",
    "forest_reg = RandomForestRegressor(random_state=42)\n",
    "rnd_rf_search = RandomizedSearchCV(forest_reg, param_distributions=param_distribs_rf,\n",
    "                                n_iter=number_iter, cv=cv_general, scoring='neg_mean_squared_error', random_state=42)\n",
    "rnd_rf_search.fit(df_general_prepared, df_general_labels)\n",
    "\n",
    "# Best model\n",
    "model = rnd_rf_search.best_estimator_\n",
    "\n",
    "write_to_models_file(\"RF:\" + 'General' + ':' + str(model), 'a')\n",
    "\n",
    "# Prepare test_set\n",
    "X_test = test_general_set.drop([\"diastolic\",\"systolic\"], axis=1)\n",
    "y_test = test_general_set[[\"diastolic\",\"systolic\"]].copy()\n",
    "\n",
    "X_test_prepared = full_pipeline.transform(X_test)\n",
    "final_predictions = model.predict(X_test_prepared)\n",
    "\n",
    "# Metric\n",
    "final_mse = mean_squared_error(y_test, final_predictions)\n",
    "final_rmse = np.sqrt(final_mse)\n",
    "\n",
    "# Score of the features in the model\n",
    "importances = rnd_rf_search.best_estimator_.feature_importances_\n",
    "importance_features = sorted(zip(importances, attribs), reverse=True)\n",
    "\n",
    "# Save the score and metric in the file of results\n",
    "write_features_to_csv_file(blankDict, 'General', 'RF', final_rmse, importance_features)"
   ]
  },
  {
   "cell_type": "markdown",
   "metadata": {},
   "source": [
    "### Decision Tree"
   ]
  },
  {
   "cell_type": "code",
   "execution_count": 33,
   "metadata": {},
   "outputs": [
    {
     "name": "stderr",
     "output_type": "stream",
     "text": [
      "/home/ahuertas/anaconda3/lib/python3.7/site-packages/sklearn/model_selection/_search.py:841: DeprecationWarning: The default of the `iid` parameter will change from True to False in version 0.22 and will be removed in 0.24. This will change numeric results when test-set sizes are unequal.\n",
      "  DeprecationWarning)\n",
      "/home/ahuertas/anaconda3/lib/python3.7/site-packages/sklearn/model_selection/_search.py:841: DeprecationWarning: The default of the `iid` parameter will change from True to False in version 0.22 and will be removed in 0.24. This will change numeric results when test-set sizes are unequal.\n",
      "  DeprecationWarning)\n",
      "/home/ahuertas/anaconda3/lib/python3.7/site-packages/sklearn/model_selection/_search.py:841: DeprecationWarning: The default of the `iid` parameter will change from True to False in version 0.22 and will be removed in 0.24. This will change numeric results when test-set sizes are unequal.\n",
      "  DeprecationWarning)\n",
      "/home/ahuertas/anaconda3/lib/python3.7/site-packages/sklearn/model_selection/_search.py:841: DeprecationWarning: The default of the `iid` parameter will change from True to False in version 0.22 and will be removed in 0.24. This will change numeric results when test-set sizes are unequal.\n",
      "  DeprecationWarning)\n",
      "/home/ahuertas/anaconda3/lib/python3.7/site-packages/sklearn/model_selection/_search.py:841: DeprecationWarning: The default of the `iid` parameter will change from True to False in version 0.22 and will be removed in 0.24. This will change numeric results when test-set sizes are unequal.\n",
      "  DeprecationWarning)\n",
      "/home/ahuertas/anaconda3/lib/python3.7/site-packages/sklearn/model_selection/_search.py:841: DeprecationWarning: The default of the `iid` parameter will change from True to False in version 0.22 and will be removed in 0.24. This will change numeric results when test-set sizes are unequal.\n",
      "  DeprecationWarning)\n"
     ]
    }
   ],
   "source": [
    "# For each user search best model\n",
    "for n in range(len(users)):\n",
    "    \n",
    "    attribs = list(df_users[n])\n",
    "    \n",
    "    df_user_prepared = num_pipeline.fit_transform(df_users[n])\n",
    "    \n",
    "    # Search best model\n",
    "    param_distribs_dt = {\n",
    "            'max_depth': randint(low=2, high=150),\n",
    "            'min_samples_split': randint(low=2, high=80),\n",
    "            'max_features': randint(low=1, high=len(df_users[n].columns)),\n",
    "        }\n",
    "\n",
    "\n",
    "    tree_reg = DecisionTreeRegressor(random_state=42)\n",
    "    rnd_tree_search = RandomizedSearchCV(tree_reg, param_distributions=param_distribs_dt,\n",
    "                                    n_iter=number_iter, cv=cv_users, scoring='neg_mean_squared_error', random_state=42)\n",
    "    rnd_tree_search.fit(df_user_prepared, df_users_labels[n])\n",
    "\n",
    "    # Best model\n",
    "    model = rnd_tree_search.best_estimator_\n",
    "    \n",
    "    write_to_models_file(\"DT:\" + str(users[n]) + ':' + str(model), 'a')\n",
    "    \n",
    "    # Prepare test_set\n",
    "    X_test = test_users_set[n].drop([\"diastolic\",\"systolic\"], axis=1)\n",
    "    y_test = test_users_set[n][[\"diastolic\",\"systolic\"]].copy()\n",
    "\n",
    "    X_test_prepared = num_pipeline.transform(X_test)\n",
    "    predictions = model.predict(X_test_prepared)\n",
    "\n",
    "    # Metric\n",
    "    final_mse = mean_squared_error(y_test, predictions)\n",
    "    final_rmse = np.sqrt(final_mse)\n",
    "\n",
    "    # Score of the features in the model\n",
    "    importances = rnd_tree_search.best_estimator_.feature_importances_\n",
    "    importance_features = sorted(zip(importances, attribs), reverse=True)\n",
    "\n",
    "    # Save the score and metric in the file of results\n",
    "    write_features_to_csv_file(blankDict, users[n], 'DT', final_rmse, importance_features)"
   ]
  },
  {
   "cell_type": "code",
   "execution_count": 34,
   "metadata": {},
   "outputs": [
    {
     "name": "stderr",
     "output_type": "stream",
     "text": [
      "/home/ahuertas/anaconda3/lib/python3.7/site-packages/sklearn/model_selection/_search.py:841: DeprecationWarning: The default of the `iid` parameter will change from True to False in version 0.22 and will be removed in 0.24. This will change numeric results when test-set sizes are unequal.\n",
      "  DeprecationWarning)\n"
     ]
    }
   ],
   "source": [
    "# Search best model\n",
    "\n",
    "attribs = list(df_general)\n",
    "\n",
    "param_distribs_dt = {\n",
    "        'max_depth': randint(low=2, high=150),\n",
    "        'min_samples_split': randint(low=2, high=80),\n",
    "        'max_features': randint(low=1, high=len(df_general.columns)),\n",
    "    }\n",
    "\n",
    "\n",
    "tree_reg = DecisionTreeRegressor(random_state=42)\n",
    "rnd_tree_search = RandomizedSearchCV(tree_reg, param_distributions=param_distribs_dt,\n",
    "                                n_iter=number_iter, cv=cv_general, scoring='neg_mean_squared_error', random_state=42)\n",
    "rnd_tree_search.fit(df_general_prepared, df_general_labels)\n",
    "\n",
    "# Best model\n",
    "model = rnd_tree_search.best_estimator_\n",
    "\n",
    "write_to_models_file(\"DT:\" + 'General' + ':' + str(model), 'a')\n",
    "\n",
    "# Prepare test_set\n",
    "X_test = test_general_set.drop([\"diastolic\",\"systolic\"], axis=1)\n",
    "y_test = test_general_set[[\"diastolic\",\"systolic\"]].copy()\n",
    "\n",
    "X_test_prepared = full_pipeline.transform(X_test)\n",
    "final_predictions = model.predict(X_test_prepared)\n",
    "\n",
    "# Metric\n",
    "final_mse = mean_squared_error(y_test, final_predictions)\n",
    "final_rmse = np.sqrt(final_mse)\n",
    "\n",
    "# Score of the features in the model\n",
    "importances = rnd_tree_search.best_estimator_.feature_importances_\n",
    "importance_features = sorted(zip(importances, attribs), reverse=True)\n",
    "\n",
    "# Save the score and metric in the file of results\n",
    "write_features_to_csv_file(blankDict, 'General', 'DT', final_rmse, importance_features)"
   ]
  },
  {
   "cell_type": "markdown",
   "metadata": {},
   "source": [
    "### SVR"
   ]
  },
  {
   "cell_type": "code",
   "execution_count": null,
   "metadata": {},
   "outputs": [],
   "source": [
    "param_distribs_svr = {\n",
    "            'kernel': ['linear'], \n",
    "            'gamma': randint(low=1e-4, high=1e+4),\n",
    "            'C': randint(low=1e+0,high=1e+2)\n",
    "        }"
   ]
  },
  {
   "cell_type": "code",
   "execution_count": null,
   "metadata": {},
   "outputs": [
    {
     "name": "stderr",
     "output_type": "stream",
     "text": [
      "/home/ahuertas/anaconda3/lib/python3.7/site-packages/sklearn/model_selection/_search.py:841: DeprecationWarning: The default of the `iid` parameter will change from True to False in version 0.22 and will be removed in 0.24. This will change numeric results when test-set sizes are unequal.\n",
      "  DeprecationWarning)\n",
      "/home/ahuertas/anaconda3/lib/python3.7/site-packages/sklearn/model_selection/_search.py:841: DeprecationWarning: The default of the `iid` parameter will change from True to False in version 0.22 and will be removed in 0.24. This will change numeric results when test-set sizes are unequal.\n",
      "  DeprecationWarning)\n",
      "/home/ahuertas/anaconda3/lib/python3.7/site-packages/sklearn/model_selection/_search.py:841: DeprecationWarning: The default of the `iid` parameter will change from True to False in version 0.22 and will be removed in 0.24. This will change numeric results when test-set sizes are unequal.\n",
      "  DeprecationWarning)\n",
      "/home/ahuertas/anaconda3/lib/python3.7/site-packages/sklearn/model_selection/_search.py:841: DeprecationWarning: The default of the `iid` parameter will change from True to False in version 0.22 and will be removed in 0.24. This will change numeric results when test-set sizes are unequal.\n",
      "  DeprecationWarning)\n",
      "/home/ahuertas/anaconda3/lib/python3.7/site-packages/sklearn/model_selection/_search.py:841: DeprecationWarning: The default of the `iid` parameter will change from True to False in version 0.22 and will be removed in 0.24. This will change numeric results when test-set sizes are unequal.\n",
      "  DeprecationWarning)\n",
      "/home/ahuertas/anaconda3/lib/python3.7/site-packages/sklearn/model_selection/_search.py:841: DeprecationWarning: The default of the `iid` parameter will change from True to False in version 0.22 and will be removed in 0.24. This will change numeric results when test-set sizes are unequal.\n",
      "  DeprecationWarning)\n"
     ]
    }
   ],
   "source": [
    "# For each user search best model\n",
    "for n in range(len(users)):\n",
    "    \n",
    "    attribs = list(df_users[n])\n",
    "\n",
    "    df_user_prepared = num_pipeline.fit_transform(df_users[n])\n",
    "\n",
    "    # Search best model\n",
    "\n",
    "    svm_reg = SVR()\n",
    "    rnd_svr_search = RandomizedSearchCV(svm_reg, param_distributions=param_distribs_svr,\n",
    "                                    n_iter=number_iter, cv=cv_users, scoring='neg_mean_squared_error', random_state=42)\n",
    "    rnd_svr_search.fit(df_user_prepared, df_users_label_dia[n])\n",
    "\n",
    "    # Best model\n",
    "    model = rnd_svr_search.best_estimator_\n",
    "    \n",
    "    write_to_models_file(\"SVR_dia:\" + str(users[n]) + ':' + str(model), 'a')\n",
    "\n",
    "    # Prepare test_set\n",
    "    X_test = test_users_set[n].drop([\"diastolic\",\"systolic\"], axis=1)\n",
    "    y_test = test_users_set[n][[\"diastolic\"]].copy()\n",
    "\n",
    "    X_test_prepared = num_pipeline.transform(X_test)\n",
    "    predictions = model.predict(X_test_prepared)\n",
    "\n",
    "    # Metric\n",
    "    final_mse = mean_squared_error(y_test, predictions)\n",
    "    final_rmse = np.sqrt(final_mse)\n",
    "\n",
    "    # Score of the features in the model\n",
    "    importance = rnd_svr_search.best_estimator_.coef_\n",
    "    importance_features = sorted(zip(importance[0], attribs), reverse=True)\n",
    "\n",
    "    # Save the score and metric in the file of results\n",
    "    write_features_to_csv_file(blankDict, users[n], 'SVR_dia', final_rmse, importance_features)"
   ]
  },
  {
   "cell_type": "code",
   "execution_count": null,
   "metadata": {},
   "outputs": [],
   "source": [
    "attribs = list(df_general)\n",
    "\n",
    "# Search best model\n",
    "\n",
    "svm_reg = SVR()\n",
    "rnd_svr_search = RandomizedSearchCV(svm_reg, param_distributions=param_distribs_svr,\n",
    "                                n_iter=number_iter, cv=cv_general, scoring='neg_mean_squared_error', random_state=42)\n",
    "rnd_svr_search.fit(df_general_prepared, df_general_label_dia)\n",
    "\n",
    "# Best model\n",
    "model = rnd_svr_search.best_estimator_\n",
    "\n",
    "write_to_models_file(\"SVR_dia:\" + 'General' + ':' + str(model), 'a')\n",
    "\n",
    "# Prepare test_set\n",
    "X_test = test_general_set.drop([\"diastolic\",\"systolic\"], axis=1)\n",
    "y_test = test_general_set[[\"diastolic\"]].copy()\n",
    "\n",
    "X_test_prepared = full_pipeline.transform(X_test)\n",
    "predictions = model.predict(X_test_prepared)\n",
    "\n",
    "# Metric\n",
    "final_mse = mean_squared_error(y_test, predictions)\n",
    "final_rmse = np.sqrt(final_mse)\n",
    "\n",
    "# Score of the features in the model\n",
    "importance = rnd_svr_search.best_estimator_.coef_\n",
    "importance_features = sorted(zip(importance[0], attribs), reverse=True)\n",
    "\n",
    "# Save the score and metric in the file of results\n",
    "write_features_to_csv_file(blankDict, 'General', 'SVR_dia', final_rmse, importance_features)"
   ]
  },
  {
   "cell_type": "code",
   "execution_count": null,
   "metadata": {},
   "outputs": [],
   "source": [
    "# For each user search best model\n",
    "for n in range(len(users)):\n",
    "    \n",
    "    attribs = list(df_users[n])\n",
    "\n",
    "    df_user_prepared = num_pipeline.fit_transform(df_users[n])\n",
    "\n",
    "    # Search best model\n",
    "\n",
    "    svm_reg = SVR()\n",
    "    rnd_svr_search = RandomizedSearchCV(svm_reg, param_distributions=param_distribs_svr,\n",
    "                                    n_iter=number_iter, cv=cv_users, scoring='neg_mean_squared_error', random_state=42)\n",
    "    rnd_svr_search.fit(df_user_prepared, df_users_label_sys[n])\n",
    "\n",
    "    # Best model\n",
    "    model = rnd_svr_search.best_estimator_\n",
    "    \n",
    "    write_to_models_file(\"SVR_sys:\" + str(users[n]) + ':' + str(model), 'a')\n",
    "\n",
    "    # Prepare test_set\n",
    "    X_test = test_users_set[n].drop([\"diastolic\",\"systolic\"], axis=1)\n",
    "    y_test = test_users_set[n][[\"systolic\"]].copy()\n",
    "\n",
    "    X_test_prepared = num_pipeline.transform(X_test)\n",
    "    predictions = model.predict(X_test_prepared)\n",
    "\n",
    "    # Metric\n",
    "    final_mse = mean_squared_error(y_test, predictions)\n",
    "    final_rmse = np.sqrt(final_mse)\n",
    "\n",
    "    # Score of the features in the model\n",
    "    importance = rnd_svr_search.best_estimator_.coef_\n",
    "    importance_features = sorted(zip(importance[0], attribs), reverse=True)\n",
    "\n",
    "    # Save the score and metric in the file of results\n",
    "    write_features_to_csv_file(blankDict, users[n], 'SVR_sys', final_rmse, importance_features)"
   ]
  },
  {
   "cell_type": "code",
   "execution_count": null,
   "metadata": {},
   "outputs": [],
   "source": [
    "attribs = list(df_general)\n",
    "\n",
    "# Search best model\n",
    "\n",
    "svm_reg = SVR()\n",
    "rnd_svr_search = RandomizedSearchCV(svm_reg, param_distributions=param_distribs_svr,\n",
    "                                n_iter=number_iter, cv=cv_general, scoring='neg_mean_squared_error', random_state=42)\n",
    "rnd_svr_search.fit(df_general_prepared, df_general_label_sys)\n",
    "\n",
    "# Best model\n",
    "model = rnd_svr_search.best_estimator_\n",
    "\n",
    "write_to_models_file(\"SVR_sys:\" + 'General' + ':' + str(model), 'a')\n",
    "\n",
    "# Prepare test_set\n",
    "X_test = test_general_set.drop([\"diastolic\",\"systolic\"], axis=1)\n",
    "y_test = test_general_set[[\"systolic\"]].copy()\n",
    "\n",
    "X_test_prepared = full_pipeline.transform(X_test)\n",
    "predictions = model.predict(X_test_prepared)\n",
    "\n",
    "# Metric\n",
    "final_mse = mean_squared_error(y_test, predictions)\n",
    "final_rmse = np.sqrt(final_mse)\n",
    "\n",
    "# Score of the features in the model\n",
    "importance = rnd_svr_search.best_estimator_.coef_\n",
    "importance_features = sorted(zip(importance[0], attribs), reverse=True)\n",
    "\n",
    "# Save the score and metric in the file of results\n",
    "write_features_to_csv_file(blankDict, 'General', 'SVR_sys', final_rmse, importance_features)"
   ]
  },
  {
   "cell_type": "markdown",
   "metadata": {},
   "source": [
    "### Bayesian Ridge"
   ]
  },
  {
   "cell_type": "code",
   "execution_count": 40,
   "metadata": {},
   "outputs": [],
   "source": [
    "param_distribs_br = {'n_iter': randint(low=50, high=800),}"
   ]
  },
  {
   "cell_type": "code",
   "execution_count": 41,
   "metadata": {},
   "outputs": [
    {
     "name": "stderr",
     "output_type": "stream",
     "text": [
      "/home/ahuertas/anaconda3/lib/python3.7/site-packages/sklearn/model_selection/_search.py:841: DeprecationWarning: The default of the `iid` parameter will change from True to False in version 0.22 and will be removed in 0.24. This will change numeric results when test-set sizes are unequal.\n",
      "  DeprecationWarning)\n",
      "/home/ahuertas/anaconda3/lib/python3.7/site-packages/sklearn/model_selection/_search.py:841: DeprecationWarning: The default of the `iid` parameter will change from True to False in version 0.22 and will be removed in 0.24. This will change numeric results when test-set sizes are unequal.\n",
      "  DeprecationWarning)\n",
      "/home/ahuertas/anaconda3/lib/python3.7/site-packages/sklearn/model_selection/_search.py:841: DeprecationWarning: The default of the `iid` parameter will change from True to False in version 0.22 and will be removed in 0.24. This will change numeric results when test-set sizes are unequal.\n",
      "  DeprecationWarning)\n",
      "/home/ahuertas/anaconda3/lib/python3.7/site-packages/sklearn/model_selection/_search.py:841: DeprecationWarning: The default of the `iid` parameter will change from True to False in version 0.22 and will be removed in 0.24. This will change numeric results when test-set sizes are unequal.\n",
      "  DeprecationWarning)\n",
      "/home/ahuertas/anaconda3/lib/python3.7/site-packages/sklearn/model_selection/_search.py:841: DeprecationWarning: The default of the `iid` parameter will change from True to False in version 0.22 and will be removed in 0.24. This will change numeric results when test-set sizes are unequal.\n",
      "  DeprecationWarning)\n",
      "/home/ahuertas/anaconda3/lib/python3.7/site-packages/sklearn/model_selection/_search.py:841: DeprecationWarning: The default of the `iid` parameter will change from True to False in version 0.22 and will be removed in 0.24. This will change numeric results when test-set sizes are unequal.\n",
      "  DeprecationWarning)\n"
     ]
    }
   ],
   "source": [
    "# For each user search best model\n",
    "for n in range(len(users)):\n",
    "    \n",
    "    attribs = list(df_users[n])\n",
    "\n",
    "    df_user_prepared = num_pipeline.fit_transform(df_users[n])\n",
    "\n",
    "    # Search best model\n",
    "\n",
    "    br_reg = BayesianRidge(compute_score=True)\n",
    "    rnd_br_search = RandomizedSearchCV(br_reg, param_distributions=param_distribs_br,\n",
    "                                    n_iter=number_iter, cv=cv_users, scoring='neg_mean_squared_error', random_state=42)\n",
    "    rnd_br_search.fit(df_user_prepared, df_users_label_dia[n])\n",
    "\n",
    "    # Best model\n",
    "    model = rnd_br_search.best_estimator_\n",
    "    \n",
    "    write_to_models_file(\"BR_dia:\" + 'General' + ':' + str(model), 'a')\n",
    "\n",
    "    # Prepare test_set\n",
    "    X_test = test_users_set[n].drop([\"diastolic\",\"systolic\"], axis=1)\n",
    "    y_test = test_users_set[n][[\"diastolic\"]].copy()\n",
    "\n",
    "    X_test_prepared = num_pipeline.transform(X_test)\n",
    "    predictions = model.predict(X_test_prepared)\n",
    "\n",
    "    # Metric\n",
    "    final_mse = mean_squared_error(y_test, predictions)\n",
    "    final_rmse = np.sqrt(final_mse)\n",
    "\n",
    "    # Score of the features in the model\n",
    "    importance = rnd_br_search.best_estimator_.coef_\n",
    "    importance_features = sorted(zip(importance, attribs), reverse=True)\n",
    "\n",
    "    # Save the score and metric in the file of results\n",
    "    write_features_to_csv_file(blankDict, users[n], 'BR_dia', final_rmse, importance_features)"
   ]
  },
  {
   "cell_type": "code",
   "execution_count": 42,
   "metadata": {},
   "outputs": [],
   "source": [
    "attribs = list(df_general)\n",
    "\n",
    "# Search best model\n",
    "\n",
    "br_reg = BayesianRidge(compute_score=True)\n",
    "rnd_br_search = RandomizedSearchCV(br_reg, param_distributions=param_distribs_br,\n",
    "                                n_iter=number_iter, cv=cv_general, scoring='neg_mean_squared_error', random_state=42)\n",
    "rnd_br_search.fit(df_general_prepared, df_general_label_dia)\n",
    "\n",
    "# Best model\n",
    "model = rnd_br_search.best_estimator_\n",
    "\n",
    "write_to_models_file(\"BR_dia:\" + 'General' + ':' + str(model), 'a')\n",
    "\n",
    "# Prepare test_set\n",
    "X_test = test_general_set.drop([\"diastolic\",\"systolic\"], axis=1)\n",
    "y_test = test_general_set[[\"diastolic\"]].copy()\n",
    "\n",
    "X_test_prepared = full_pipeline.transform(X_test)\n",
    "predictions = model.predict(X_test_prepared)\n",
    "\n",
    "# Metric\n",
    "final_mse = mean_squared_error(y_test, predictions)\n",
    "final_rmse = np.sqrt(final_mse)\n",
    "\n",
    "# Score of the features in the model\n",
    "importance = rnd_br_search.best_estimator_.coef_\n",
    "importance_features = sorted(zip(importance, attribs), reverse=True)\n",
    "\n",
    "# Save the score and metric in the file of results\n",
    "write_features_to_csv_file(blankDict, 'General', 'BR_dia', final_rmse, importance_features)"
   ]
  },
  {
   "cell_type": "code",
   "execution_count": 43,
   "metadata": {},
   "outputs": [
    {
     "name": "stderr",
     "output_type": "stream",
     "text": [
      "/home/ahuertas/anaconda3/lib/python3.7/site-packages/sklearn/model_selection/_search.py:841: DeprecationWarning: The default of the `iid` parameter will change from True to False in version 0.22 and will be removed in 0.24. This will change numeric results when test-set sizes are unequal.\n",
      "  DeprecationWarning)\n",
      "/home/ahuertas/anaconda3/lib/python3.7/site-packages/sklearn/model_selection/_search.py:841: DeprecationWarning: The default of the `iid` parameter will change from True to False in version 0.22 and will be removed in 0.24. This will change numeric results when test-set sizes are unequal.\n",
      "  DeprecationWarning)\n",
      "/home/ahuertas/anaconda3/lib/python3.7/site-packages/sklearn/model_selection/_search.py:841: DeprecationWarning: The default of the `iid` parameter will change from True to False in version 0.22 and will be removed in 0.24. This will change numeric results when test-set sizes are unequal.\n",
      "  DeprecationWarning)\n",
      "/home/ahuertas/anaconda3/lib/python3.7/site-packages/sklearn/model_selection/_search.py:841: DeprecationWarning: The default of the `iid` parameter will change from True to False in version 0.22 and will be removed in 0.24. This will change numeric results when test-set sizes are unequal.\n",
      "  DeprecationWarning)\n",
      "/home/ahuertas/anaconda3/lib/python3.7/site-packages/sklearn/model_selection/_search.py:841: DeprecationWarning: The default of the `iid` parameter will change from True to False in version 0.22 and will be removed in 0.24. This will change numeric results when test-set sizes are unequal.\n",
      "  DeprecationWarning)\n",
      "/home/ahuertas/anaconda3/lib/python3.7/site-packages/sklearn/model_selection/_search.py:841: DeprecationWarning: The default of the `iid` parameter will change from True to False in version 0.22 and will be removed in 0.24. This will change numeric results when test-set sizes are unequal.\n",
      "  DeprecationWarning)\n"
     ]
    }
   ],
   "source": [
    "# For each user search best model\n",
    "for n in range(len(users)):\n",
    "    \n",
    "    attribs = list(df_users[n])\n",
    "\n",
    "    df_user_prepared = num_pipeline.fit_transform(df_users[n])\n",
    "\n",
    "    # Search best model\n",
    "\n",
    "    br_reg = BayesianRidge(compute_score=True)\n",
    "    rnd_br_search = RandomizedSearchCV(br_reg, param_distributions=param_distribs_br,\n",
    "                                    n_iter=number_iter, cv=cv_users, scoring='neg_mean_squared_error', random_state=42)\n",
    "    rnd_br_search.fit(df_user_prepared, df_users_label_sys[n])\n",
    "\n",
    "    # Best model\n",
    "    model = rnd_br_search.best_estimator_\n",
    "    \n",
    "    write_to_models_file(\"BR_sys:\" + 'General' + ':' + str(model), 'a')\n",
    "\n",
    "    # Prepare test_set\n",
    "    X_test = test_users_set[n].drop([\"diastolic\",\"systolic\"], axis=1)\n",
    "    y_test = test_users_set[n][[\"systolic\"]].copy()\n",
    "\n",
    "    X_test_prepared = num_pipeline.transform(X_test)\n",
    "    predictions = model.predict(X_test_prepared)\n",
    "\n",
    "    # Metric\n",
    "    final_mse = mean_squared_error(y_test, predictions)\n",
    "    final_rmse = np.sqrt(final_mse)\n",
    "\n",
    "    # Score of the features in the model\n",
    "    importance = rnd_br_search.best_estimator_.coef_\n",
    "    importance_features = sorted(zip(importance, attribs), reverse=True)\n",
    "\n",
    "    # Save the score and metric in the file of results\n",
    "    write_features_to_csv_file(blankDict, users[n], 'BR_sys', final_rmse, importance_features)"
   ]
  },
  {
   "cell_type": "code",
   "execution_count": 44,
   "metadata": {},
   "outputs": [
    {
     "name": "stderr",
     "output_type": "stream",
     "text": [
      "/home/ahuertas/anaconda3/lib/python3.7/site-packages/sklearn/model_selection/_search.py:841: DeprecationWarning: The default of the `iid` parameter will change from True to False in version 0.22 and will be removed in 0.24. This will change numeric results when test-set sizes are unequal.\n",
      "  DeprecationWarning)\n"
     ]
    }
   ],
   "source": [
    "attribs = list(df_general)\n",
    "\n",
    "# Search best model\n",
    "\n",
    "br_reg = BayesianRidge(compute_score=True)\n",
    "rnd_br_search = RandomizedSearchCV(br_reg, param_distributions=param_distribs_br,\n",
    "                                n_iter=number_iter, cv=cv_general, scoring='neg_mean_squared_error', random_state=42)\n",
    "rnd_br_search.fit(df_general_prepared, df_general_label_sys)\n",
    "\n",
    "# Best model\n",
    "model = rnd_br_search.best_estimator_\n",
    "\n",
    "write_to_models_file(\"BR_sys:\" + 'General' + ':' + str(model), 'a')\n",
    "\n",
    "# Prepare test_set\n",
    "X_test = test_general_set.drop([\"diastolic\",\"systolic\"], axis=1)\n",
    "y_test = test_general_set[[\"systolic\"]].copy()\n",
    "\n",
    "X_test_prepared = full_pipeline.transform(X_test)\n",
    "predictions = model.predict(X_test_prepared)\n",
    "\n",
    "# Metric\n",
    "final_mse = mean_squared_error(y_test, predictions)\n",
    "final_rmse = np.sqrt(final_mse)\n",
    "\n",
    "# Score of the features in the model\n",
    "importance = rnd_br_search.best_estimator_.coef_\n",
    "importance_features = sorted(zip(importance, attribs), reverse=True)\n",
    "\n",
    "# Save the score and metric in the file of results\n",
    "write_features_to_csv_file(blankDict, 'General', 'BR_sys', final_rmse, importance_features)"
   ]
  },
  {
   "cell_type": "markdown",
   "metadata": {},
   "source": [
    "### Linear regression"
   ]
  },
  {
   "cell_type": "code",
   "execution_count": 45,
   "metadata": {},
   "outputs": [],
   "source": [
    "param_distribs_lr = {'n_jobs': randint(low=20, high=800),}"
   ]
  },
  {
   "cell_type": "code",
   "execution_count": 46,
   "metadata": {},
   "outputs": [
    {
     "name": "stderr",
     "output_type": "stream",
     "text": [
      "/home/ahuertas/anaconda3/lib/python3.7/site-packages/sklearn/model_selection/_search.py:841: DeprecationWarning: The default of the `iid` parameter will change from True to False in version 0.22 and will be removed in 0.24. This will change numeric results when test-set sizes are unequal.\n",
      "  DeprecationWarning)\n",
      "/home/ahuertas/anaconda3/lib/python3.7/site-packages/sklearn/model_selection/_search.py:841: DeprecationWarning: The default of the `iid` parameter will change from True to False in version 0.22 and will be removed in 0.24. This will change numeric results when test-set sizes are unequal.\n",
      "  DeprecationWarning)\n",
      "/home/ahuertas/anaconda3/lib/python3.7/site-packages/sklearn/model_selection/_search.py:841: DeprecationWarning: The default of the `iid` parameter will change from True to False in version 0.22 and will be removed in 0.24. This will change numeric results when test-set sizes are unequal.\n",
      "  DeprecationWarning)\n",
      "/home/ahuertas/anaconda3/lib/python3.7/site-packages/sklearn/model_selection/_search.py:841: DeprecationWarning: The default of the `iid` parameter will change from True to False in version 0.22 and will be removed in 0.24. This will change numeric results when test-set sizes are unequal.\n",
      "  DeprecationWarning)\n",
      "/home/ahuertas/anaconda3/lib/python3.7/site-packages/sklearn/model_selection/_search.py:841: DeprecationWarning: The default of the `iid` parameter will change from True to False in version 0.22 and will be removed in 0.24. This will change numeric results when test-set sizes are unequal.\n",
      "  DeprecationWarning)\n",
      "/home/ahuertas/anaconda3/lib/python3.7/site-packages/sklearn/model_selection/_search.py:841: DeprecationWarning: The default of the `iid` parameter will change from True to False in version 0.22 and will be removed in 0.24. This will change numeric results when test-set sizes are unequal.\n",
      "  DeprecationWarning)\n"
     ]
    }
   ],
   "source": [
    "# For each user search best model\n",
    "for n in range(len(users)):\n",
    "    \n",
    "    attribs = list(df_users[n])\n",
    "\n",
    "    df_user_prepared = num_pipeline.fit_transform(df_users[n])\n",
    "    \n",
    "    # Search best model\n",
    "    \n",
    "    lin_reg = LinearRegression()\n",
    "    \n",
    "    rnd_lr_search = RandomizedSearchCV(lin_reg, param_distributions=param_distribs_lr,\n",
    "                                n_iter=number_iter, cv=cv_users, scoring='neg_mean_squared_error', random_state=42)\n",
    "    rnd_lr_search.fit(df_user_prepared, df_users_label_dia[n])\n",
    "    \n",
    "    # Best model\n",
    "    model = rnd_lr_search.best_estimator_\n",
    "    \n",
    "    write_to_models_file(\"LR_dia:\" + str(users[n]) + ':' + str(model), 'a')\n",
    "\n",
    "    # Prepare test_set\n",
    "    X_test = test_users_set[n].drop([\"diastolic\",\"systolic\"], axis=1)\n",
    "    y_test = test_users_set[n][[\"diastolic\"]].copy()\n",
    "\n",
    "    X_test_prepared = num_pipeline.transform(X_test)\n",
    "    predictions = model.predict(X_test_prepared)\n",
    "\n",
    "    # Metric\n",
    "    final_mse = mean_squared_error(y_test, predictions)\n",
    "    final_rmse = np.sqrt(final_mse)\n",
    "    \n",
    "\n",
    "    # Score of the features in the model\n",
    "    importance = rnd_lr_search.best_estimator_.coef_\n",
    "    importance_features = sorted(zip(importance, attribs), reverse=True)\n",
    "\n",
    "    # Save the score and metric in the file of results\n",
    "    write_features_to_csv_file(blankDict, users[n], 'LR_dia', final_rmse, importance_features)"
   ]
  },
  {
   "cell_type": "code",
   "execution_count": 47,
   "metadata": {},
   "outputs": [
    {
     "name": "stderr",
     "output_type": "stream",
     "text": [
      "/home/ahuertas/anaconda3/lib/python3.7/site-packages/sklearn/model_selection/_search.py:841: DeprecationWarning: The default of the `iid` parameter will change from True to False in version 0.22 and will be removed in 0.24. This will change numeric results when test-set sizes are unequal.\n",
      "  DeprecationWarning)\n"
     ]
    }
   ],
   "source": [
    "attribs = list(df_general)\n",
    "\n",
    "# Search best model\n",
    "\n",
    "lin_reg = LinearRegression()\n",
    "\n",
    "rnd_lr_search = RandomizedSearchCV(lin_reg, param_distributions=param_distribs_lr,\n",
    "                            n_iter=number_iter, cv=cv_general, scoring='neg_mean_squared_error', random_state=42)\n",
    "rnd_lr_search.fit(df_general_prepared, df_general_label_dia)\n",
    "\n",
    "# Best model\n",
    "model = rnd_lr_search.best_estimator_\n",
    "\n",
    "write_to_models_file(\"LR_dia:\" + 'General' + ':' + str(model), 'a')\n",
    "\n",
    "# Prepare test_set\n",
    "X_test = test_general_set.drop([\"diastolic\",\"systolic\"], axis=1)\n",
    "y_test = test_general_set[[\"diastolic\"]].copy()\n",
    "\n",
    "X_test_prepared = full_pipeline.transform(X_test)\n",
    "predictions = model.predict(X_test_prepared)\n",
    "\n",
    "# Metric\n",
    "final_mse = mean_squared_error(y_test, predictions)\n",
    "final_rmse = np.sqrt(final_mse)\n",
    "\n",
    "# Score of the features in the model\n",
    "importance = rnd_lr_search.best_estimator_.coef_\n",
    "importance_features = sorted(zip(importance, attribs), reverse=True)\n",
    "\n",
    "# Save the score and metric in the file of results\n",
    "write_features_to_csv_file(blankDict, 'General', 'LR_dia', final_rmse, importance_features)"
   ]
  },
  {
   "cell_type": "code",
   "execution_count": 48,
   "metadata": {},
   "outputs": [
    {
     "name": "stderr",
     "output_type": "stream",
     "text": [
      "/home/ahuertas/anaconda3/lib/python3.7/site-packages/sklearn/model_selection/_search.py:841: DeprecationWarning: The default of the `iid` parameter will change from True to False in version 0.22 and will be removed in 0.24. This will change numeric results when test-set sizes are unequal.\n",
      "  DeprecationWarning)\n",
      "/home/ahuertas/anaconda3/lib/python3.7/site-packages/sklearn/model_selection/_search.py:841: DeprecationWarning: The default of the `iid` parameter will change from True to False in version 0.22 and will be removed in 0.24. This will change numeric results when test-set sizes are unequal.\n",
      "  DeprecationWarning)\n",
      "/home/ahuertas/anaconda3/lib/python3.7/site-packages/sklearn/model_selection/_search.py:841: DeprecationWarning: The default of the `iid` parameter will change from True to False in version 0.22 and will be removed in 0.24. This will change numeric results when test-set sizes are unequal.\n",
      "  DeprecationWarning)\n",
      "/home/ahuertas/anaconda3/lib/python3.7/site-packages/sklearn/model_selection/_search.py:841: DeprecationWarning: The default of the `iid` parameter will change from True to False in version 0.22 and will be removed in 0.24. This will change numeric results when test-set sizes are unequal.\n",
      "  DeprecationWarning)\n",
      "/home/ahuertas/anaconda3/lib/python3.7/site-packages/sklearn/model_selection/_search.py:841: DeprecationWarning: The default of the `iid` parameter will change from True to False in version 0.22 and will be removed in 0.24. This will change numeric results when test-set sizes are unequal.\n",
      "  DeprecationWarning)\n",
      "/home/ahuertas/anaconda3/lib/python3.7/site-packages/sklearn/model_selection/_search.py:841: DeprecationWarning: The default of the `iid` parameter will change from True to False in version 0.22 and will be removed in 0.24. This will change numeric results when test-set sizes are unequal.\n",
      "  DeprecationWarning)\n"
     ]
    }
   ],
   "source": [
    "# For each user search best model\n",
    "for n in range(len(users)):\n",
    "    \n",
    "    attribs = list(df_users[n])\n",
    "\n",
    "    df_user_prepared = num_pipeline.fit_transform(df_users[n])\n",
    "    \n",
    "    # Search best model\n",
    "\n",
    "    lin_reg = LinearRegression()\n",
    "    \n",
    "    rnd_lr_search = RandomizedSearchCV(lin_reg, param_distributions=param_distribs_lr,\n",
    "                                n_iter=number_iter, cv=cv_users, scoring='neg_mean_squared_error', random_state=42)\n",
    "    rnd_lr_search.fit(df_user_prepared, df_users_label_sys[n])\n",
    "    \n",
    "    # Best model\n",
    "    model = rnd_lr_search.best_estimator_\n",
    "    \n",
    "    write_to_models_file(\"LR_sys:\" + str(users[n]) + ':' + str(model), 'a')\n",
    "\n",
    "    # Prepare test_set\n",
    "    X_test = test_users_set[n].drop([\"diastolic\",\"systolic\"], axis=1)\n",
    "    y_test = test_users_set[n][[\"systolic\"]].copy()\n",
    "\n",
    "    X_test_prepared = num_pipeline.transform(X_test)\n",
    "    predictions = model.predict(X_test_prepared)\n",
    "\n",
    "    # Metric\n",
    "    final_mse = mean_squared_error(y_test, predictions)\n",
    "    final_rmse = np.sqrt(final_mse)\n",
    "    \n",
    "\n",
    "    # Score of the features in the model\n",
    "    importance = rnd_lr_search.best_estimator_.coef_\n",
    "    importance_features = sorted(zip(importance, attribs), reverse=True)\n",
    "\n",
    "    # Save the score and metric in the file of results\n",
    "    write_features_to_csv_file(blankDict, users[n], 'LR_sys', final_rmse, importance_features)"
   ]
  },
  {
   "cell_type": "code",
   "execution_count": 49,
   "metadata": {},
   "outputs": [
    {
     "name": "stderr",
     "output_type": "stream",
     "text": [
      "/home/ahuertas/anaconda3/lib/python3.7/site-packages/sklearn/model_selection/_search.py:841: DeprecationWarning: The default of the `iid` parameter will change from True to False in version 0.22 and will be removed in 0.24. This will change numeric results when test-set sizes are unequal.\n",
      "  DeprecationWarning)\n"
     ]
    }
   ],
   "source": [
    "attribs = list(df_general)\n",
    "\n",
    "# Search best model\n",
    "\n",
    "lin_reg = LinearRegression()\n",
    "\n",
    "rnd_lr_search = RandomizedSearchCV(lin_reg, param_distributions=param_distribs_lr,\n",
    "                            n_iter=number_iter, cv=cv_general, scoring='neg_mean_squared_error', random_state=42)\n",
    "rnd_lr_search.fit(df_general_prepared, df_general_label_sys)\n",
    "\n",
    "# Best model\n",
    "model = rnd_lr_search.best_estimator_\n",
    "\n",
    "write_to_models_file(\"LR_sys:\" + 'General' + ':' + str(model), 'a')\n",
    "\n",
    "# Prepare test_set\n",
    "X_test = test_general_set.drop([\"diastolic\",\"systolic\"], axis=1)\n",
    "y_test = test_general_set[[\"systolic\"]].copy()\n",
    "\n",
    "X_test_prepared = full_pipeline.transform(X_test)\n",
    "predictions = model.predict(X_test_prepared)\n",
    "\n",
    "# Metric\n",
    "final_mse = mean_squared_error(y_test, predictions)\n",
    "final_rmse = np.sqrt(final_mse)\n",
    "\n",
    "# Score of the features in the model\n",
    "importance = rnd_lr_search.best_estimator_.coef_\n",
    "importance_features = sorted(zip(importance, attribs), reverse=True)\n",
    "\n",
    "# Save the score and metric in the file of results\n",
    "write_features_to_csv_file(blankDict, 'General', 'LR_sys', final_rmse, importance_features)"
   ]
  },
  {
   "cell_type": "markdown",
   "metadata": {},
   "source": [
    "### Polinomial regression"
   ]
  },
  {
   "cell_type": "code",
   "execution_count": 50,
   "metadata": {},
   "outputs": [],
   "source": [
    "# For each user search best model\n",
    "for n in range(len(users)):\n",
    "    \n",
    "    rmses = []\n",
    "    degrees = np.arange(2, max_grade)\n",
    "    models = list()\n",
    "    min_rmse, min_deg = 1e10, 0\n",
    "    \n",
    "    df_user_prepared = num_pipeline.fit_transform(df_users[n])\n",
    "\n",
    "    X = df_user_prepared.copy()\n",
    "    y = df_users_label_dia[n].copy()\n",
    "    \n",
    "    attribs = list(df_users[n])\n",
    "\n",
    "    for deg in degrees:\n",
    "\n",
    "        lin_reg = LinearRegression()\n",
    "\n",
    "        poly_reg = make_pipeline(PolynomialFeatures(deg),lin_reg)\n",
    "\n",
    "        poly_reg.fit(X, y)\n",
    "\n",
    "        X_test = test_users_set[n].drop([\"diastolic\",\"systolic\"], axis=1)\n",
    "        y_test = test_users_set[n][[\"diastolic\"]].copy()\n",
    "\n",
    "        X_test_prepared = num_pipeline.transform(X_test)\n",
    "        final_predictions = poly_reg.predict(X_test_prepared)\n",
    "\n",
    "        final_mse = mean_squared_error(y_test, final_predictions)\n",
    "        final_rmse = np.sqrt(final_mse)\n",
    "        \n",
    "        models.append(lin_reg)\n",
    "\n",
    "        # Cross-validation of degree\n",
    "        if min_rmse > final_rmse:\n",
    "            min_rmse = final_rmse\n",
    "            min_deg = deg\n",
    "   \n",
    "    # Best model\n",
    "    model = models[min_deg-2]\n",
    "    \n",
    "    write_to_models_file(\"PR_dia:\" + str(users[n]) + ':' + \"Polynomial grade = \"+ str(min_deg), 'a')\n",
    "\n",
    "    # Score of the features in the model\n",
    "    importance = model.coef_\n",
    "    importance_features = sorted(zip(importance, attribs), reverse=True)\n",
    "\n",
    "    # Save the score and metric in the file of results\n",
    "    write_features_to_csv_file(blankDict, users[n], 'PR_dia', min_rmse, importance_features)"
   ]
  },
  {
   "cell_type": "code",
   "execution_count": 51,
   "metadata": {},
   "outputs": [],
   "source": [
    "# For each user search best model\n",
    "\n",
    "rmses = []\n",
    "degrees = np.arange(2, max_grade)\n",
    "models = list()\n",
    "min_rmse, min_deg = 1e10, 0\n",
    "\n",
    "X = df_general_prepared.copy()\n",
    "y = df_general_label_dia.copy()\n",
    "\n",
    "attribs = list(df_general)\n",
    "\n",
    "for deg in degrees:\n",
    "\n",
    "    lin_reg = LinearRegression()\n",
    "\n",
    "    poly_reg = make_pipeline(PolynomialFeatures(deg),lin_reg)\n",
    "\n",
    "    poly_reg.fit(X, y)\n",
    "\n",
    "    X_test = test_general_set.drop([\"diastolic\",\"systolic\"], axis=1)\n",
    "    y_test = test_general_set[[\"diastolic\"]].copy()\n",
    "\n",
    "    X_test_prepared = full_pipeline.transform(X_test)\n",
    "    final_predictions = poly_reg.predict(X_test_prepared)\n",
    "\n",
    "    final_mse = mean_squared_error(y_test, final_predictions)\n",
    "    final_rmse = np.sqrt(final_mse)\n",
    "\n",
    "    models.append(lin_reg)\n",
    "\n",
    "    # Cross-validation of degree\n",
    "    if min_rmse > final_rmse:\n",
    "        min_rmse = final_rmse\n",
    "        min_deg = deg\n",
    "\n",
    "# Best model\n",
    "model = models[min_deg-2]\n",
    "\n",
    "write_to_models_file(\"PR_dia:\" + 'General' + ':' + \"Polynomial grade = \"+ str(min_deg), 'a')\n",
    "\n",
    "# Score of the features in the model\n",
    "importance = model.coef_\n",
    "importance_features = sorted(zip(importance, attribs), reverse=True)\n",
    "\n",
    "# Save the score and metric in the file of results\n",
    "write_features_to_csv_file(blankDict, 'General', 'PR_dia', min_rmse, importance_features)"
   ]
  },
  {
   "cell_type": "code",
   "execution_count": 52,
   "metadata": {},
   "outputs": [],
   "source": [
    "# For each user search best model\n",
    "for n in range(len(users)):\n",
    "    \n",
    "    rmses = []\n",
    "    degrees = np.arange(2, max_grade)\n",
    "    models = list()\n",
    "    min_rmse, min_deg = 1e10, 0\n",
    "    \n",
    "    df_user_prepared = num_pipeline.fit_transform(df_users[n])\n",
    "\n",
    "    X = df_user_prepared.copy()\n",
    "    y = df_users_label_sys[n].copy()\n",
    "    \n",
    "    attribs = list(df_users[n])\n",
    "\n",
    "    for deg in degrees:\n",
    "\n",
    "        lin_reg = LinearRegression()\n",
    "\n",
    "        poly_reg = make_pipeline(PolynomialFeatures(deg),lin_reg)\n",
    "\n",
    "        poly_reg.fit(X, y)\n",
    "\n",
    "        X_test = test_users_set[n].drop([\"diastolic\",\"systolic\"], axis=1)\n",
    "        y_test = test_users_set[n][[\"systolic\"]].copy()\n",
    "\n",
    "        X_test_prepared = num_pipeline.transform(X_test)\n",
    "        final_predictions = poly_reg.predict(X_test_prepared)\n",
    "\n",
    "        final_mse = mean_squared_error(y_test, final_predictions)\n",
    "        final_rmse = np.sqrt(final_mse)\n",
    "        \n",
    "        models.append(lin_reg)\n",
    "\n",
    "        # Cross-validation of degree\n",
    "        if min_rmse > final_rmse:\n",
    "            min_rmse = final_rmse\n",
    "            min_deg = deg\n",
    "   \n",
    "    # Best model\n",
    "    model = models[min_deg-2]\n",
    "    \n",
    "    write_to_models_file(\"PR_sys:\" + str(users[n]) + ':' + \"Polynomial grade = \"+ str(min_deg), 'a')\n",
    "\n",
    "    # Score of the features in the model\n",
    "    importance = model.coef_\n",
    "    importance_features = sorted(zip(importance, attribs), reverse=True)\n",
    "\n",
    "    # Save the score and metric in the file of results\n",
    "    write_features_to_csv_file(blankDict, users[n], 'PR_sys', min_rmse, importance_features)"
   ]
  },
  {
   "cell_type": "code",
   "execution_count": 53,
   "metadata": {},
   "outputs": [],
   "source": [
    "# For each user search best model\n",
    "\n",
    "rmses = []\n",
    "degrees = np.arange(2, max_grade)\n",
    "models = list()\n",
    "min_rmse, min_deg = 1e10, 0\n",
    "\n",
    "X = df_general_prepared.copy()\n",
    "y = df_general_label_sys.copy()\n",
    "\n",
    "attribs = list(df_general)\n",
    "\n",
    "for deg in degrees:\n",
    "    \n",
    "    lin_reg = LinearRegression()\n",
    "\n",
    "    poly_reg = make_pipeline(PolynomialFeatures(deg),lin_reg)\n",
    "\n",
    "    poly_reg.fit(X, y)\n",
    "\n",
    "    X_test = test_general_set.drop([\"diastolic\",\"systolic\"], axis=1)\n",
    "    y_test = test_general_set[[\"systolic\"]].copy()\n",
    "\n",
    "    X_test_prepared = full_pipeline.transform(X_test)\n",
    "    final_predictions = poly_reg.predict(X_test_prepared)\n",
    "\n",
    "    final_mse = mean_squared_error(y_test, final_predictions)\n",
    "    final_rmse = np.sqrt(final_mse)\n",
    "\n",
    "    models.append(lin_reg)\n",
    "\n",
    "    # Cross-validation of degree\n",
    "    if min_rmse > final_rmse:\n",
    "        min_rmse = final_rmse\n",
    "        min_deg = deg\n",
    "\n",
    "# Best model\n",
    "model = models[min_deg-2]\n",
    "\n",
    "write_to_models_file(\"PR_sys:\" + 'General' + ':' + \"Polynomial grade = \"+ str(min_deg), 'a')\n",
    "\n",
    "# Score of the features in the model\n",
    "importance = model.coef_\n",
    "importance_features = sorted(zip(importance, attribs), reverse=True)\n",
    "\n",
    "# Save the score and metric in the file of results\n",
    "write_features_to_csv_file(blankDict, 'General', 'PR_sys', min_rmse, importance_features)"
   ]
  },
  {
   "cell_type": "code",
   "execution_count": null,
   "metadata": {},
   "outputs": [],
   "source": []
  }
 ],
 "metadata": {
  "kernelspec": {
   "display_name": "Python 3",
   "language": "python",
   "name": "python3"
  },
  "language_info": {
   "codemirror_mode": {
    "name": "ipython",
    "version": 3
   },
   "file_extension": ".py",
   "mimetype": "text/x-python",
   "name": "python",
   "nbconvert_exporter": "python",
   "pygments_lexer": "ipython3",
   "version": "3.6.9"
  }
 },
 "nbformat": 4,
 "nbformat_minor": 4
}
